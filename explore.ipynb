{
 "cells": [
  {
   "cell_type": "markdown",
   "id": "17c5be6a",
   "metadata": {},
   "source": [
    "## Chargement des données"
   ]
  },
  {
   "cell_type": "code",
   "execution_count": 1,
   "id": "aefb0431",
   "metadata": {},
   "outputs": [
    {
     "data": {
      "text/html": [
       "<div class=\"data-frame\"><p>284,766 rows × 33 columns (omitted printing of 23 columns)</p><table class=\"data-frame\"><thead><tr><th></th><th>commune</th><th>arm</th><th>dcran</th><th>achlr</th><th>agemen8</th><th>agerevq</th><th>anemc</th><th>catpc</th><th>cs1</th><th>csm</th></tr><tr><th></th><th title=\"Int64\">Int64</th><th title=\"String\">String</th><th title=\"String\">String</th><th title=\"String\">String</th><th title=\"String\">String</th><th title=\"Int64\">Int64</th><th title=\"String\">String</th><th title=\"Int64\">Int64</th><th title=\"Int64\">Int64</th><th title=\"String\">String</th></tr></thead><tbody><tr><th>1</th><td>35001</td><td>ZZZZZ</td><td>35001</td><td>4</td><td>55</td><td>55</td><td>4</td><td>0</td><td>5</td><td>5</td></tr><tr><th>2</th><td>35001</td><td>ZZZZZ</td><td>35001</td><td>4</td><td>55</td><td>50</td><td>4</td><td>0</td><td>5</td><td>5</td></tr><tr><th>3</th><td>35001</td><td>ZZZZZ</td><td>35001</td><td>4</td><td>55</td><td>55</td><td>4</td><td>0</td><td>5</td><td>5</td></tr><tr><th>4</th><td>35001</td><td>ZZZZZ</td><td>35001</td><td>4</td><td>40</td><td>50</td><td>4</td><td>0</td><td>4</td><td>4</td></tr><tr><th>5</th><td>35001</td><td>ZZZZZ</td><td>35001</td><td>4</td><td>40</td><td>50</td><td>4</td><td>0</td><td>4</td><td>4</td></tr><tr><th>6</th><td>35001</td><td>ZZZZZ</td><td>35001</td><td>6</td><td>25</td><td>35</td><td>1</td><td>0</td><td>2</td><td>2</td></tr><tr><th>7</th><td>35001</td><td>ZZZZZ</td><td>35001</td><td>6</td><td>55</td><td>55</td><td>2</td><td>0</td><td>6</td><td>6</td></tr><tr><th>8</th><td>35001</td><td>ZZZZZ</td><td>35001</td><td>6</td><td>20</td><td>20</td><td>0</td><td>0</td><td>4</td><td>4</td></tr><tr><th>9</th><td>35001</td><td>ZZZZZ</td><td>35001</td><td>4</td><td>55</td><td>60</td><td>4</td><td>0</td><td>7</td><td>7</td></tr><tr><th>10</th><td>35001</td><td>ZZZZZ</td><td>35001</td><td>4</td><td>55</td><td>60</td><td>4</td><td>0</td><td>8</td><td>7</td></tr><tr><th>11</th><td>35001</td><td>ZZZZZ</td><td>35001</td><td>1</td><td>40</td><td>50</td><td>5</td><td>0</td><td>1</td><td>1</td></tr><tr><th>12</th><td>35001</td><td>ZZZZZ</td><td>35001</td><td>1</td><td>40</td><td>50</td><td>5</td><td>0</td><td>1</td><td>1</td></tr><tr><th>13</th><td>35001</td><td>ZZZZZ</td><td>35001</td><td>1</td><td>40</td><td>15</td><td>5</td><td>0</td><td>8</td><td>1</td></tr><tr><th>14</th><td>35001</td><td>ZZZZZ</td><td>35001</td><td>4</td><td>40</td><td>50</td><td>2</td><td>0</td><td>3</td><td>4</td></tr><tr><th>15</th><td>35001</td><td>ZZZZZ</td><td>35001</td><td>4</td><td>40</td><td>50</td><td>2</td><td>0</td><td>4</td><td>4</td></tr><tr><th>16</th><td>35001</td><td>ZZZZZ</td><td>35001</td><td>4</td><td>40</td><td>25</td><td>2</td><td>0</td><td>3</td><td>4</td></tr><tr><th>17</th><td>35001</td><td>ZZZZZ</td><td>35001</td><td>4</td><td>40</td><td>20</td><td>2</td><td>0</td><td>8</td><td>4</td></tr><tr><th>18</th><td>35001</td><td>ZZZZZ</td><td>35001</td><td>5</td><td>40</td><td>45</td><td>0</td><td>0</td><td>8</td><td>8</td></tr><tr><th>19</th><td>35001</td><td>ZZZZZ</td><td>35001</td><td>Z</td><td>ZZ</td><td>25</td><td>Z</td><td>2</td><td>8</td><td>Z</td></tr><tr><th>20</th><td>35001</td><td>ZZZZZ</td><td>35001</td><td>Z</td><td>ZZ</td><td>10</td><td>Z</td><td>2</td><td>8</td><td>Z</td></tr><tr><th>21</th><td>35001</td><td>ZZZZZ</td><td>35001</td><td>4</td><td>40</td><td>45</td><td>1</td><td>0</td><td>3</td><td>3</td></tr><tr><th>22</th><td>35001</td><td>ZZZZZ</td><td>35001</td><td>4</td><td>40</td><td>45</td><td>1</td><td>0</td><td>3</td><td>3</td></tr><tr><th>23</th><td>35001</td><td>ZZZZZ</td><td>35001</td><td>4</td><td>40</td><td>40</td><td>1</td><td>0</td><td>5</td><td>6</td></tr><tr><th>24</th><td>35001</td><td>ZZZZZ</td><td>35001</td><td>4</td><td>40</td><td>40</td><td>1</td><td>0</td><td>6</td><td>6</td></tr><tr><th>25</th><td>35001</td><td>ZZZZZ</td><td>35001</td><td>4</td><td>40</td><td>5</td><td>1</td><td>0</td><td>8</td><td>6</td></tr><tr><th>26</th><td>35001</td><td>ZZZZZ</td><td>35001</td><td>4</td><td>40</td><td>0</td><td>1</td><td>0</td><td>8</td><td>6</td></tr><tr><th>27</th><td>35001</td><td>ZZZZZ</td><td>35001</td><td>5</td><td>55</td><td>55</td><td>4</td><td>0</td><td>4</td><td>4</td></tr><tr><th>28</th><td>35001</td><td>ZZZZZ</td><td>35001</td><td>5</td><td>55</td><td>50</td><td>4</td><td>0</td><td>3</td><td>4</td></tr><tr><th>29</th><td>35001</td><td>ZZZZZ</td><td>35001</td><td>4</td><td>65</td><td>65</td><td>4</td><td>0</td><td>7</td><td>7</td></tr><tr><th>30</th><td>35001</td><td>ZZZZZ</td><td>35001</td><td>4</td><td>55</td><td>60</td><td>2</td><td>0</td><td>3</td><td>3</td></tr><tr><th>&vellip;</th><td>&vellip;</td><td>&vellip;</td><td>&vellip;</td><td>&vellip;</td><td>&vellip;</td><td>&vellip;</td><td>&vellip;</td><td>&vellip;</td><td>&vellip;</td><td>&vellip;</td></tr></tbody></table></div>"
      ],
      "text/latex": [
       "\\begin{tabular}{r|ccccccccccc}\n",
       "\t& commune & arm & dcran & achlr & agemen8 & agerevq & anemc & catpc & cs1 & csm & \\\\\n",
       "\t\\hline\n",
       "\t& Int64 & String & String & String & String & Int64 & String & Int64 & Int64 & String & \\\\\n",
       "\t\\hline\n",
       "\t1 & 35001 & ZZZZZ & 35001 & 4 & 55 & 55 & 4 & 0 & 5 & 5 & $\\dots$ \\\\\n",
       "\t2 & 35001 & ZZZZZ & 35001 & 4 & 55 & 50 & 4 & 0 & 5 & 5 & $\\dots$ \\\\\n",
       "\t3 & 35001 & ZZZZZ & 35001 & 4 & 55 & 55 & 4 & 0 & 5 & 5 & $\\dots$ \\\\\n",
       "\t4 & 35001 & ZZZZZ & 35001 & 4 & 40 & 50 & 4 & 0 & 4 & 4 & $\\dots$ \\\\\n",
       "\t5 & 35001 & ZZZZZ & 35001 & 4 & 40 & 50 & 4 & 0 & 4 & 4 & $\\dots$ \\\\\n",
       "\t6 & 35001 & ZZZZZ & 35001 & 6 & 25 & 35 & 1 & 0 & 2 & 2 & $\\dots$ \\\\\n",
       "\t7 & 35001 & ZZZZZ & 35001 & 6 & 55 & 55 & 2 & 0 & 6 & 6 & $\\dots$ \\\\\n",
       "\t8 & 35001 & ZZZZZ & 35001 & 6 & 20 & 20 & 0 & 0 & 4 & 4 & $\\dots$ \\\\\n",
       "\t9 & 35001 & ZZZZZ & 35001 & 4 & 55 & 60 & 4 & 0 & 7 & 7 & $\\dots$ \\\\\n",
       "\t10 & 35001 & ZZZZZ & 35001 & 4 & 55 & 60 & 4 & 0 & 8 & 7 & $\\dots$ \\\\\n",
       "\t11 & 35001 & ZZZZZ & 35001 & 1 & 40 & 50 & 5 & 0 & 1 & 1 & $\\dots$ \\\\\n",
       "\t12 & 35001 & ZZZZZ & 35001 & 1 & 40 & 50 & 5 & 0 & 1 & 1 & $\\dots$ \\\\\n",
       "\t13 & 35001 & ZZZZZ & 35001 & 1 & 40 & 15 & 5 & 0 & 8 & 1 & $\\dots$ \\\\\n",
       "\t14 & 35001 & ZZZZZ & 35001 & 4 & 40 & 50 & 2 & 0 & 3 & 4 & $\\dots$ \\\\\n",
       "\t15 & 35001 & ZZZZZ & 35001 & 4 & 40 & 50 & 2 & 0 & 4 & 4 & $\\dots$ \\\\\n",
       "\t16 & 35001 & ZZZZZ & 35001 & 4 & 40 & 25 & 2 & 0 & 3 & 4 & $\\dots$ \\\\\n",
       "\t17 & 35001 & ZZZZZ & 35001 & 4 & 40 & 20 & 2 & 0 & 8 & 4 & $\\dots$ \\\\\n",
       "\t18 & 35001 & ZZZZZ & 35001 & 5 & 40 & 45 & 0 & 0 & 8 & 8 & $\\dots$ \\\\\n",
       "\t19 & 35001 & ZZZZZ & 35001 & Z & ZZ & 25 & Z & 2 & 8 & Z & $\\dots$ \\\\\n",
       "\t20 & 35001 & ZZZZZ & 35001 & Z & ZZ & 10 & Z & 2 & 8 & Z & $\\dots$ \\\\\n",
       "\t21 & 35001 & ZZZZZ & 35001 & 4 & 40 & 45 & 1 & 0 & 3 & 3 & $\\dots$ \\\\\n",
       "\t22 & 35001 & ZZZZZ & 35001 & 4 & 40 & 45 & 1 & 0 & 3 & 3 & $\\dots$ \\\\\n",
       "\t23 & 35001 & ZZZZZ & 35001 & 4 & 40 & 40 & 1 & 0 & 5 & 6 & $\\dots$ \\\\\n",
       "\t24 & 35001 & ZZZZZ & 35001 & 4 & 40 & 40 & 1 & 0 & 6 & 6 & $\\dots$ \\\\\n",
       "\t25 & 35001 & ZZZZZ & 35001 & 4 & 40 & 5 & 1 & 0 & 8 & 6 & $\\dots$ \\\\\n",
       "\t26 & 35001 & ZZZZZ & 35001 & 4 & 40 & 0 & 1 & 0 & 8 & 6 & $\\dots$ \\\\\n",
       "\t27 & 35001 & ZZZZZ & 35001 & 5 & 55 & 55 & 4 & 0 & 4 & 4 & $\\dots$ \\\\\n",
       "\t28 & 35001 & ZZZZZ & 35001 & 5 & 55 & 50 & 4 & 0 & 3 & 4 & $\\dots$ \\\\\n",
       "\t29 & 35001 & ZZZZZ & 35001 & 4 & 65 & 65 & 4 & 0 & 7 & 7 & $\\dots$ \\\\\n",
       "\t30 & 35001 & ZZZZZ & 35001 & 4 & 55 & 60 & 2 & 0 & 3 & 3 & $\\dots$ \\\\\n",
       "\t$\\dots$ & $\\dots$ & $\\dots$ & $\\dots$ & $\\dots$ & $\\dots$ & $\\dots$ & $\\dots$ & $\\dots$ & $\\dots$ & $\\dots$ &  \\\\\n",
       "\\end{tabular}\n"
      ],
      "text/plain": [
       "\u001b[1m284766×33 DataFrame\u001b[0m\n",
       "\u001b[1m    Row \u001b[0m│\u001b[1m commune \u001b[0m\u001b[1m arm    \u001b[0m\u001b[1m dcran  \u001b[0m\u001b[1m achlr  \u001b[0m\u001b[1m agemen8 \u001b[0m\u001b[1m agerevq \u001b[0m\u001b[1m anemc  \u001b[0m\u001b[1m catpc \u001b[0m\u001b[1m cs\u001b[0m ⋯\n",
       "\u001b[1m        \u001b[0m│\u001b[90m Int64   \u001b[0m\u001b[90m String \u001b[0m\u001b[90m String \u001b[0m\u001b[90m String \u001b[0m\u001b[90m String  \u001b[0m\u001b[90m Int64   \u001b[0m\u001b[90m String \u001b[0m\u001b[90m Int64 \u001b[0m\u001b[90m In\u001b[0m ⋯\n",
       "────────┼───────────────────────────────────────────────────────────────────────\n",
       "      1 │   35001  ZZZZZ   35001   4       55            55  4           0     ⋯\n",
       "      2 │   35001  ZZZZZ   35001   4       55            50  4           0\n",
       "      3 │   35001  ZZZZZ   35001   4       55            55  4           0\n",
       "      4 │   35001  ZZZZZ   35001   4       40            50  4           0\n",
       "      5 │   35001  ZZZZZ   35001   4       40            50  4           0     ⋯\n",
       "      6 │   35001  ZZZZZ   35001   6       25            35  1           0\n",
       "      7 │   35001  ZZZZZ   35001   6       55            55  2           0\n",
       "      8 │   35001  ZZZZZ   35001   6       20            20  0           0\n",
       "      9 │   35001  ZZZZZ   35001   4       55            60  4           0     ⋯\n",
       "     10 │   35001  ZZZZZ   35001   4       55            60  4           0\n",
       "     11 │   35001  ZZZZZ   35001   1       40            50  5           0\n",
       "   ⋮    │    ⋮       ⋮       ⋮       ⋮        ⋮        ⋮       ⋮       ⋮       ⋱\n",
       " 284757 │   35001  ZZZZZ   35001   1       25             0  2           0\n",
       " 284758 │   35001  ZZZZZ   35001   1       25            35  2           0     ⋯\n",
       " 284759 │   35001  ZZZZZ   35001   1       25            30  2           0\n",
       " 284760 │   35001  ZZZZZ   35001   5       25            25  1           0\n",
       " 284761 │   35001  ZZZZZ   35001   6       40            40  1           0\n",
       " 284762 │   35001  ZZZZZ   35001   6       40            40  1           0     ⋯\n",
       " 284763 │   35001  ZZZZZ   35001   6       40            10  1           0\n",
       " 284764 │   35001  ZZZZZ   35001   6       40             5  1           0\n",
       " 284765 │   35001  ZZZZZ   35001   4       65            65  5           0\n",
       " 284766 │   35001  ZZZZZ   35001   4       65            70  5           0     ⋯\n",
       "\u001b[36m                                              25 columns and 284745 rows omitted\u001b[0m"
      ]
     },
     "execution_count": 1,
     "metadata": {},
     "output_type": "execute_result"
    }
   ],
   "source": [
    "using CSV, DataFrames, LightGraphs\n",
    "\n",
    "correscp = CSV.read(\"correspondance-code-insee-code-postal.csv\", DataFrame)\n",
    "data = CSV.read(\"migration35-commune.csv\", DataFrame)"
   ]
  },
  {
   "cell_type": "markdown",
   "id": "36a6de23",
   "metadata": {},
   "source": [
    "Le code postal de `commune` est un `Int`, mais le `dcran` (Département et commune de résidence antérieure au 1er janvier de l'annéee précédente (arrondissement municipal pour Paris, Lyon, Marseille) est une `String`."
   ]
  },
  {
   "cell_type": "code",
   "execution_count": 2,
   "id": "05c6d616",
   "metadata": {},
   "outputs": [
    {
     "data": {
      "text/plain": [
       "\"2A004\""
      ]
     },
     "execution_count": 2,
     "metadata": {},
     "output_type": "execute_result"
    }
   ],
   "source": [
    "# example\n",
    "\n",
    "data[!, \"dcran\"][60389]"
   ]
  },
  {
   "cell_type": "markdown",
   "id": "6c816be8",
   "metadata": {},
   "source": [
    "C'est la Corse ! On utilise donc des `String` pour représenter les codes INSEE (et pas les code postaux)."
   ]
  },
  {
   "cell_type": "markdown",
   "id": "5f83a527",
   "metadata": {},
   "source": [
    "## Construction du graphe\n",
    "\n",
    "Chaque migration (code postal départ, code postal arrivée)"
   ]
  },
  {
   "cell_type": "code",
   "execution_count": 3,
   "id": "303a83b1",
   "metadata": {},
   "outputs": [
    {
     "data": {
      "text/plain": [
       "Dict{String, Int64} with 2857 entries:\n",
       "  \"78138\" => 699\n",
       "  \"37031\" => 1153\n",
       "  \"91461\" => 2447\n",
       "  \"35159\" => 145\n",
       "  \"22321\" => 1497\n",
       "  \"77379\" => 2543\n",
       "  \"14061\" => 1605\n",
       "  \"33349\" => 1879\n",
       "  \"35266\" => 248\n",
       "  \"31263\" => 951\n",
       "  \"83123\" => 1476\n",
       "  \"44068\" => 1543\n",
       "  \"49135\" => 1983\n",
       "  \"14648\" => 1139\n",
       "  \"44154\" => 1544\n",
       "  \"35285\" => 265\n",
       "  \"97120\" => 2501\n",
       "  \"29175\" => 1827\n",
       "  \"44211\" => 2762\n",
       "  \"76758\" => 694\n",
       "  \"45282\" => 1456\n",
       "  \"45050\" => 499\n",
       "  \"60369\" => 2687\n",
       "  \"56041\" => 649\n",
       "  \"35208\" => 193\n",
       "  ⋮       => ⋮"
      ]
     },
     "metadata": {},
     "output_type": "display_data"
    }
   ],
   "source": [
    "# maps all postcode to an int\n",
    "\n",
    "# all postal code in string format\n",
    "allcps = unique(cat(string.(data[!, \"commune\"]), data[!, \"dcran\"], dims=1))\n",
    "\n",
    "# maps all postal code to it's position\n",
    "mapping = Dict{String,Int}()\n",
    "\n",
    "for (i,cp) in enumerate(allcps) \n",
    "   mapping[cp] = i\n",
    "end\n",
    "\n",
    "display(mapping)"
   ]
  },
  {
   "cell_type": "code",
   "execution_count": 4,
   "id": "6e634a85",
   "metadata": {},
   "outputs": [
    {
     "data": {
      "text/plain": [
       "false"
      ]
     },
     "execution_count": 4,
     "metadata": {},
     "output_type": "execute_result"
    }
   ],
   "source": [
    "g = SimpleDiGraph(length(allcps))\n",
    "\n",
    "for r in eachrow(data)\n",
    "    src = r[\"dcran\"]\n",
    "    dst = string(r[\"commune\"])\n",
    "    add_edge!(g, mapping[src], mapping[dst]) # ignores sel-connected nodes\n",
    "end\n",
    "\n",
    "is_connected(g)"
   ]
  },
  {
   "cell_type": "markdown",
   "id": "6e378bb6",
   "metadata": {},
   "source": [
    "Le graphe n'est pas connexe, regardons les régions isolées des autres."
   ]
  },
  {
   "cell_type": "code",
   "execution_count": 5,
   "id": "9cb53007",
   "metadata": {},
   "outputs": [
    {
     "data": {
      "text/plain": [
       "2-element Vector{Vector{Int64}}:\n",
       " [1, 2, 3, 4, 5, 6, 7, 8, 9, 10  …  2848, 2849, 2850, 2851, 2852, 2853, 2854, 2855, 2856, 2857]\n",
       " [299]"
      ]
     },
     "execution_count": 5,
     "metadata": {},
     "output_type": "execute_result"
    }
   ],
   "source": [
    "connected_components(g)"
   ]
  },
  {
   "cell_type": "code",
   "execution_count": 6,
   "id": "7b80136f",
   "metadata": {},
   "outputs": [
    {
     "data": {
      "text/plain": [
       "\"35325\""
      ]
     },
     "execution_count": 6,
     "metadata": {},
     "output_type": "execute_result"
    }
   ],
   "source": [
    "allcps[299]"
   ]
  },
  {
   "cell_type": "markdown",
   "id": "7be112d6",
   "metadata": {},
   "source": [
    "Le code postal 35325 est isolé du reste, il n'est connecté qu'avec lui-même. Cela veut dire que lors du recensement de 2018, personne n'avait rejoint ou quitté La Selle-Guerchaise dans les cinq année précédentes. Retirons-le donc pour visualiser le reste du graphe."
   ]
  },
  {
   "cell_type": "code",
   "execution_count": 12,
   "id": "e51e11cc",
   "metadata": {},
   "outputs": [
    {
     "data": {
      "text/plain": [
       "false"
      ]
     },
     "execution_count": 12,
     "metadata": {},
     "output_type": "execute_result"
    }
   ],
   "source": [
    "using GraphPlot, Compose\n",
    "\n",
    "partialg = deepcopy(g)\n",
    "rem_vertex!(partialg, 299)\n",
    "gplot(partialg, arrowlengthfrac=0) |> SVG(\"migrations.svg\")"
   ]
  },
  {
   "cell_type": "markdown",
   "id": "d24a8789",
   "metadata": {},
   "source": [
    "Nous voyons l'existence de gros hubs et de groupes indépendants. Regardons les zones les plus attractives. Mais avant ça, établissons la correspondance entre le code INSEE et le nom"
   ]
  },
  {
   "cell_type": "code",
   "execution_count": 8,
   "id": "6f5ca1b8",
   "metadata": {},
   "outputs": [],
   "source": [
    "codeinsee2commune = Dict{String, String}()\n",
    "\n",
    "for r in eachrow(correscp)\n",
    "    insee = r[\"Code INSEE\"]\n",
    "    commune = r[\"Commune\"]\n",
    "    codeinsee2commune[insee] = commune\n",
    "end"
   ]
  },
  {
   "cell_type": "markdown",
   "id": "f5ad0784",
   "metadata": {},
   "source": [
    "Regardons les endroits avec les plus grand nombre de provenances différentes."
   ]
  },
  {
   "cell_type": "code",
   "execution_count": 9,
   "id": "125ca073",
   "metadata": {},
   "outputs": [
    {
     "data": {
      "text/plain": [
       "10×2 Matrix{Any}:\n",
       " 1804  \"RENNES\"\n",
       "  420  \"SAINT-MALO\"\n",
       "  345  \"BRUZ\"\n",
       "  305  \"CESSON-SEVIGNE\"\n",
       "  216  \"FOUGERES\"\n",
       "  203  \"SAINT-JACQUES-DE-LA-LANDE\"\n",
       "  203  \"VITRE\"\n",
       "  141  \"DINARD\"\n",
       "  139  \"CHANTEPIE\"\n",
       "  133  \"BETTON\""
      ]
     },
     "execution_count": 9,
     "metadata": {},
     "output_type": "execute_result"
    }
   ],
   "source": [
    "indegs = indegree(g)\n",
    "p = sortperm(indegs, rev=true) # highest degrees first\n",
    "FIRST = 10 # look at the first postal codes\n",
    "\n",
    "cat(indegs[p][1:FIRST], map(x->codeinsee2commune[x], allcps[p][1:FIRST]), dims=2)"
   ]
  }
 ],
 "metadata": {
  "@webio": {
   "lastCommId": "60d5601b1b524a55b12ded06d2e6a199",
   "lastKernelId": "46ed5c23-56e1-4017-af3f-838119f859e2"
  },
  "kernelspec": {
   "display_name": "Julia 1.6.1",
   "language": "julia",
   "name": "julia-1.6"
  },
  "language_info": {
   "file_extension": ".jl",
   "mimetype": "application/julia",
   "name": "julia",
   "version": "1.6.1"
  }
 },
 "nbformat": 4,
 "nbformat_minor": 5
}
